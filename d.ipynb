{
 "cells": [
  {
   "cell_type": "code",
   "execution_count": 1,
   "id": "f6f67954",
   "metadata": {},
   "outputs": [
    {
     "name": "stderr",
     "output_type": "stream",
     "text": [
      "[ 2025-08-09 08:20:52,940 ] root - INFO - ✅ This should appear in both console and log file.\n"
     ]
    }
   ],
   "source": [
    "from src.utils.main_utils import read_yaml_file\n",
    "from src.constants import SCHEMA_FILE_PATH"
   ]
  },
  {
   "cell_type": "code",
   "execution_count": 2,
   "id": "a3011e13",
   "metadata": {},
   "outputs": [],
   "source": [
    "data = read_yaml_file(SCHEMA_FILE_PATH)"
   ]
  },
  {
   "cell_type": "code",
   "execution_count": 5,
   "id": "329fc893",
   "metadata": {},
   "outputs": [
    {
     "data": {
      "text/plain": [
       "ConfigBox({'months_as_customer': 'int', 'age': 'int', 'policy_state': 'object', 'policy_csl': 'object', 'policy_deductable': 'int', 'policy_annual_premium': 'float', 'umbrella_limit': 'int', 'insured_sex': 'object', 'insured_education_level': 'object', 'insured_occupation': 'object', 'insured_hobbies': 'object', 'insured_relationship': 'object', 'capital-gains': 'int', 'capital-loss': 'int', 'incident_type': 'object', 'collision_type': 'object', 'incident_severity': 'object', 'authorities_contacted': 'object', 'incident_state': 'object', 'incident_hour_of_the_day': 'int', 'number_of_vehicles_involved': 'int', 'property_damage': 'object', 'bodily_injuries': 'int', 'witnesses': 'int', 'police_report_available': 'object', 'total_claim_amount': 'int', 'injury_claim': 'int', 'property_claim': 'int', 'vehicle_claim': 'int', 'auto_make': 'object', 'auto_year': 'int', 'fraud_reported': 'object'})"
      ]
     },
     "execution_count": 5,
     "metadata": {},
     "output_type": "execute_result"
    }
   ],
   "source": [
    "data.columns"
   ]
  },
  {
   "cell_type": "code",
   "execution_count": null,
   "id": "4e129309",
   "metadata": {},
   "outputs": [],
   "source": [
    "from insurance.utils.main_utils import read_yaml_file\n",
    "\n",
    "class DataTransformation:\n",
    "    ...\n",
    "    def _check_drift(self, drift_report_path, prior_threshold=0.05, feature_pvalue_threshold=0.05):\n",
    "        drift_report = read_yaml_file(drift_report_path)\n",
    "        \n",
    "        # 1. Check prior probability drift\n",
    "        prior_drift = drift_report.get(\"prior_drift\", {})\n",
    "        prior_flag = any(\n",
    "            abs(info[\"absolute_difference\"]) > prior_threshold\n",
    "            for info in prior_drift.values()\n",
    "        )\n",
    "\n",
    "        # 2. Check feature drift\n",
    "        feature_drift = drift_report.get(\"feature_drift\", {})\n",
    "        feature_flag = any(\n",
    "            info.get(\"p_value\", 1) < feature_pvalue_threshold\n",
    "            for info in feature_drift.values()\n",
    "        )\n",
    "\n",
    "        if prior_flag or feature_flag:\n",
    "            logging.warning(\"⚠️ Drift detected. Prior drift: %s, Feature drift: %s\", prior_flag, feature_flag)\n",
    "            return True\n",
    "        return False\n"
   ]
  }
 ],
 "metadata": {
  "kernelspec": {
   "display_name": "venv",
   "language": "python",
   "name": "python3"
  },
  "language_info": {
   "codemirror_mode": {
    "name": "ipython",
    "version": 3
   },
   "file_extension": ".py",
   "mimetype": "text/x-python",
   "name": "python",
   "nbconvert_exporter": "python",
   "pygments_lexer": "ipython3",
   "version": "3.12.0"
  }
 },
 "nbformat": 4,
 "nbformat_minor": 5
}
