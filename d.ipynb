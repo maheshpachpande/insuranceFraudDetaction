{
 "cells": [
  {
   "cell_type": "code",
   "execution_count": 1,
   "id": "f6f67954",
   "metadata": {},
   "outputs": [
    {
     "name": "stderr",
     "output_type": "stream",
     "text": [
      "[ 2025-08-11 12:11:30,047 ] root - INFO - ✅ This should appear in both console and log file.\n"
     ]
    }
   ],
   "source": [
    "from src.utils.main_utils import read_yaml_file\n",
    "from src.constants import SCHEMA_FILE_PATH"
   ]
  },
  {
   "cell_type": "code",
   "execution_count": 2,
   "id": "a3011e13",
   "metadata": {},
   "outputs": [],
   "source": [
    "data = read_yaml_file(SCHEMA_FILE_PATH)"
   ]
  },
  {
   "cell_type": "code",
   "execution_count": 3,
   "id": "329fc893",
   "metadata": {},
   "outputs": [
    {
     "data": {
      "text/plain": [
       "ConfigBox({'months_as_customer': 'int', 'age': 'int', 'policy_state': 'object', 'policy_csl': 'object', 'policy_deductable': 'int', 'policy_annual_premium': 'float', 'umbrella_limit': 'int', 'insured_sex': 'object', 'insured_education_level': 'object', 'insured_occupation': 'object', 'insured_hobbies': 'object', 'insured_relationship': 'object', 'capital-gains': 'int', 'capital-loss': 'int', 'incident_type': 'object', 'collision_type': 'object', 'incident_severity': 'object', 'authorities_contacted': 'object', 'incident_state': 'object', 'incident_hour_of_the_day': 'int', 'number_of_vehicles_involved': 'int', 'property_damage': 'object', 'bodily_injuries': 'int', 'witnesses': 'int', 'police_report_available': 'object', 'total_claim_amount': 'int', 'injury_claim': 'int', 'property_claim': 'int', 'vehicle_claim': 'int', 'auto_make': 'object', 'auto_year': 'int', 'fraud_reported': 'object'})"
      ]
     },
     "execution_count": 3,
     "metadata": {},
     "output_type": "execute_result"
    }
   ],
   "source": [
    "data.columns"
   ]
  },
  {
   "cell_type": "code",
   "execution_count": 4,
   "id": "4e129309",
   "metadata": {},
   "outputs": [],
   "source": [
    "from sklearn.linear_model import LogisticRegression, RidgeClassifier\n",
    "from sklearn.tree import DecisionTreeClassifier\n",
    "from sklearn.ensemble import RandomForestClassifier, ExtraTreesClassifier, GradientBoostingClassifier\n",
    "from sklearn.neighbors import KNeighborsClassifier\n",
    "from sklearn.svm import SVC, LinearSVC\n",
    "from sklearn.naive_bayes import GaussianNB, MultinomialNB, BernoulliNB\n",
    "from sklearn.neural_network import MLPClassifier\n",
    "from xgboost import XGBClassifier\n",
    "from lightgbm import LGBMClassifier\n",
    "from catboost import CatBoostClassifier\n",
    "\n",
    "models = {\n",
    "    \"Logistic Regression\": LogisticRegression(max_iter=1000),\n",
    "    \"Ridge Classifier\": RidgeClassifier(),\n",
    "    \"Decision Tree\": DecisionTreeClassifier(),\n",
    "    \"Random Forest\": RandomForestClassifier(),\n",
    "    \"Extra Trees\": ExtraTreesClassifier(),\n",
    "    \"Gradient Boosting\": GradientBoostingClassifier(),\n",
    "    \"XGBoost\": XGBClassifier(use_label_encoder=False, eval_metric='logloss'),\n",
    "    \"LightGBM\": LGBMClassifier(),\n",
    "    \"CatBoost\": CatBoostClassifier(verbose=0),\n",
    "    \"KNN\": KNeighborsClassifier(),\n",
    "    \"SVC\": SVC(),\n",
    "    \"Linear SVC\": LinearSVC(),\n",
    "    \"Gaussian NB\": GaussianNB(),\n",
    "    \"Multinomial NB\": MultinomialNB(),\n",
    "    \"Bernoulli NB\": BernoulliNB(),\n",
    "    \"MLP\": MLPClassifier(max_iter=1000)\n",
    "}\n"
   ]
  },
  {
   "cell_type": "code",
   "execution_count": 5,
   "id": "64cbc81c",
   "metadata": {},
   "outputs": [],
   "source": [
    "model_params = {\n",
    "    \"Logistic Regression\": {\n",
    "        \"C\": [0.01, 0.1, 1, 10],\n",
    "        \"penalty\": [\"l1\", \"l2\", \"elasticnet\", None],\n",
    "        \"solver\": [\"lbfgs\", \"liblinear\", \"saga\"],\n",
    "        \"max_iter\": [1000]\n",
    "    },\n",
    "    \"Ridge Classifier\": {\n",
    "        \"alpha\": [0.1, 1.0, 10.0]\n",
    "    },\n",
    "    \"Decision Tree\": {\n",
    "        \"max_depth\": [None, 5, 10, 20],\n",
    "        \"min_samples_split\": [2, 5, 10],\n",
    "        \"min_samples_leaf\": [1, 2, 4],\n",
    "        \"criterion\": [\"gini\", \"entropy\"]\n",
    "    },\n",
    "    \"Random Forest\": {\n",
    "        \"n_estimators\": [100, 200, 500],\n",
    "        \"max_depth\": [None, 5, 10, 20],\n",
    "        \"min_samples_split\": [2, 5],\n",
    "        \"min_samples_leaf\": [1, 2],\n",
    "        \"bootstrap\": [True, False]\n",
    "    },\n",
    "    \"Extra Trees\": {\n",
    "        \"n_estimators\": [100, 200],\n",
    "        \"max_depth\": [None, 5, 10],\n",
    "        \"min_samples_split\": [2, 5],\n",
    "        \"min_samples_leaf\": [1, 2]\n",
    "    },\n",
    "    \"Gradient Boosting\": {\n",
    "        \"n_estimators\": [100, 200],\n",
    "        \"learning_rate\": [0.01, 0.1, 0.2],\n",
    "        \"max_depth\": [3, 5, 10]\n",
    "    },\n",
    "    \"XGBoost\": {\n",
    "        \"n_estimators\": [100, 200],\n",
    "        \"learning_rate\": [0.01, 0.1, 0.2],\n",
    "        \"max_depth\": [3, 5, 7],\n",
    "        \"subsample\": [0.8, 1.0],\n",
    "        \"colsample_bytree\": [0.8, 1.0]\n",
    "    },\n",
    "    \"LightGBM\": {\n",
    "        \"n_estimators\": [100, 200],\n",
    "        \"learning_rate\": [0.01, 0.1, 0.2],\n",
    "        \"num_leaves\": [31, 50, 100],\n",
    "        \"boosting_type\": [\"gbdt\", \"dart\"]\n",
    "    },\n",
    "    \"CatBoost\": {\n",
    "        \"iterations\": [100, 200],\n",
    "        \"depth\": [4, 6, 10],\n",
    "        \"learning_rate\": [0.01, 0.1, 0.2]\n",
    "    },\n",
    "    \"KNN\": {\n",
    "        \"n_neighbors\": [3, 5, 7, 11],\n",
    "        \"weights\": [\"uniform\", \"distance\"],\n",
    "        \"metric\": [\"euclidean\", \"manhattan\", \"minkowski\"]\n",
    "    },\n",
    "    \"SVC\": {\n",
    "        \"C\": [0.1, 1, 10],\n",
    "        \"kernel\": [\"linear\", \"rbf\", \"poly\"],\n",
    "        \"gamma\": [\"scale\", \"auto\"]\n",
    "    },\n",
    "    \"Linear SVC\": {\n",
    "        \"C\": [0.1, 1, 10],\n",
    "        \"max_iter\": [1000]\n",
    "    },\n",
    "    \"Gaussian NB\": {},  # no main hyperparameters\n",
    "    \"Multinomial NB\": {\n",
    "        \"alpha\": [0.1, 0.5, 1.0]\n",
    "    },\n",
    "    \"Bernoulli NB\": {\n",
    "        \"alpha\": [0.1, 0.5, 1.0]\n",
    "    },\n",
    "    \"MLP\": {\n",
    "        \"hidden_layer_sizes\": [(50,), (100,), (100, 50)],\n",
    "        \"activation\": [\"tanh\", \"relu\"],\n",
    "        \"solver\": [\"adam\", \"sgd\"],\n",
    "        \"alpha\": [0.0001, 0.001],\n",
    "        \"learning_rate\": [\"constant\", \"adaptive\"],\n",
    "        \"max_iter\": [1000]\n",
    "    }\n",
    "}\n"
   ]
  },
  {
   "cell_type": "code",
   "execution_count": 6,
   "id": "24e342c0",
   "metadata": {},
   "outputs": [],
   "source": [
    "from src.target_mapping import InsuranceModel\n",
    "import pandas as pd\n",
    "import numpy as np\n",
    "import sys\n",
    "import os\n",
    "import pickle"
   ]
  },
  {
   "cell_type": "code",
   "execution_count": 7,
   "id": "eebc9246",
   "metadata": {},
   "outputs": [],
   "source": [
    "model_path = \"artifact/model_trainer/trained_model/model.pkl\""
   ]
  },
  {
   "cell_type": "code",
   "execution_count": 8,
   "id": "298c0ccb",
   "metadata": {},
   "outputs": [
    {
     "name": "stdout",
     "output_type": "stream",
     "text": [
      "✅ Model loaded successfully!\n"
     ]
    }
   ],
   "source": [
    "with open(model_path, \"rb\") as f:\n",
    "    model: InsuranceModel = pickle.load(f)\n",
    "\n",
    "print(\"✅ Model loaded successfully!\")"
   ]
  },
  {
   "cell_type": "code",
   "execution_count": 9,
   "id": "03eba610",
   "metadata": {},
   "outputs": [
    {
     "data": {
      "text/html": [
       "<div>\n",
       "<style scoped>\n",
       "    .dataframe tbody tr th:only-of-type {\n",
       "        vertical-align: middle;\n",
       "    }\n",
       "\n",
       "    .dataframe tbody tr th {\n",
       "        vertical-align: top;\n",
       "    }\n",
       "\n",
       "    .dataframe thead th {\n",
       "        text-align: right;\n",
       "    }\n",
       "</style>\n",
       "<table border=\"1\" class=\"dataframe\">\n",
       "  <thead>\n",
       "    <tr style=\"text-align: right;\">\n",
       "      <th></th>\n",
       "      <th>months_as_customer</th>\n",
       "      <th>age</th>\n",
       "      <th>policy_number</th>\n",
       "      <th>policy_bind_date</th>\n",
       "      <th>policy_state</th>\n",
       "      <th>policy_csl</th>\n",
       "      <th>policy_deductable</th>\n",
       "      <th>policy_annual_premium</th>\n",
       "      <th>umbrella_limit</th>\n",
       "      <th>insured_zip</th>\n",
       "      <th>...</th>\n",
       "      <th>bodily_injuries</th>\n",
       "      <th>witnesses</th>\n",
       "      <th>police_report_available</th>\n",
       "      <th>total_claim_amount</th>\n",
       "      <th>injury_claim</th>\n",
       "      <th>property_claim</th>\n",
       "      <th>vehicle_claim</th>\n",
       "      <th>auto_make</th>\n",
       "      <th>auto_model</th>\n",
       "      <th>auto_year</th>\n",
       "    </tr>\n",
       "  </thead>\n",
       "  <tbody>\n",
       "    <tr>\n",
       "      <th>0</th>\n",
       "      <td>328</td>\n",
       "      <td>48</td>\n",
       "      <td>521585</td>\n",
       "      <td>10/17/2014</td>\n",
       "      <td>OH</td>\n",
       "      <td>250/500</td>\n",
       "      <td>1000</td>\n",
       "      <td>1406.91</td>\n",
       "      <td>0</td>\n",
       "      <td>466132</td>\n",
       "      <td>...</td>\n",
       "      <td>1</td>\n",
       "      <td>2</td>\n",
       "      <td>YES</td>\n",
       "      <td>71610</td>\n",
       "      <td>6510</td>\n",
       "      <td>13020</td>\n",
       "      <td>52080</td>\n",
       "      <td>Saab</td>\n",
       "      <td>92x</td>\n",
       "      <td>2004</td>\n",
       "    </tr>\n",
       "  </tbody>\n",
       "</table>\n",
       "<p>1 rows × 38 columns</p>\n",
       "</div>"
      ],
      "text/plain": [
       "   months_as_customer  age  policy_number policy_bind_date policy_state  \\\n",
       "0                 328   48         521585       10/17/2014           OH   \n",
       "\n",
       "  policy_csl  policy_deductable  policy_annual_premium  umbrella_limit  \\\n",
       "0    250/500               1000                1406.91               0   \n",
       "\n",
       "   insured_zip  ... bodily_injuries witnesses police_report_available  \\\n",
       "0       466132  ...               1         2                     YES   \n",
       "\n",
       "  total_claim_amount injury_claim  property_claim  vehicle_claim auto_make  \\\n",
       "0              71610         6510           13020          52080      Saab   \n",
       "\n",
       "  auto_model auto_year  \n",
       "0        92x      2004  \n",
       "\n",
       "[1 rows x 38 columns]"
      ]
     },
     "execution_count": 9,
     "metadata": {},
     "output_type": "execute_result"
    }
   ],
   "source": [
    "import pandas as pd\n",
    "\n",
    "sample_input = {\n",
    "    'months_as_customer': 328,\n",
    "    'age': 48,\n",
    "    'policy_number': 521585,\n",
    "    'policy_bind_date': '10/17/2014',\n",
    "    'policy_state': 'OH',\n",
    "    'policy_csl': '250/500',\n",
    "    'policy_deductable': 1000,\n",
    "    'policy_annual_premium': 1406.91,\n",
    "    'umbrella_limit': 0,\n",
    "    'insured_zip': 466132,\n",
    "    'insured_sex': 'MALE',\n",
    "    'insured_education_level': 'MD',\n",
    "    'insured_occupation': 'craft-repair',\n",
    "    'insured_hobbies': 'sleeping',\n",
    "    'insured_relationship': 'husband',\n",
    "    'capital-gains': 53300,\n",
    "    'capital-loss': 0,\n",
    "    'incident_date': '1/25/2015',\n",
    "    'incident_type': 'Single Vehicle Collision',\n",
    "    'collision_type': 'Side Collision',\n",
    "    'incident_severity': 'Major Damage',\n",
    "    'authorities_contacted': 'Police',\n",
    "    'incident_state': 'SC',\n",
    "    'incident_city': 'Columbus',\n",
    "    'incident_location': '9935 4th Drive',\n",
    "    'incident_hour_of_the_day': 5,\n",
    "    'number_of_vehicles_involved': 1,\n",
    "    'property_damage': 'YES',\n",
    "    'bodily_injuries': 1,\n",
    "    'witnesses': 2,\n",
    "    'police_report_available': 'YES',\n",
    "    'total_claim_amount': 71610,\n",
    "    'injury_claim': 6510,\n",
    "    'property_claim': 13020,\n",
    "    'vehicle_claim': 52080,\n",
    "    'auto_make': 'Saab',\n",
    "    'auto_model': '92x',\n",
    "    'auto_year': 2004\n",
    "}\n",
    "\n",
    "# ✅ Wrap in list to convert single-row dict to DataFrame\n",
    "input_df = pd.DataFrame([sample_input])\n",
    "\n",
    "# # Show the DataFrame\n",
    "input_df.head()"
   ]
  },
  {
   "cell_type": "code",
   "execution_count": 10,
   "id": "9f8468d9",
   "metadata": {},
   "outputs": [],
   "source": [
    "df = pd.read_csv(\"artifact/data_ingestion/ingested/train.csv\")\n",
    "data = df[df[\"fraud_reported\"] == \"N\"]\n",
    "dataa = data.sample(1)\n",
    "dataa.drop(columns=[\"fraud_reported\"], inplace=True)"
   ]
  },
  {
   "cell_type": "code",
   "execution_count": 11,
   "id": "e85cd593",
   "metadata": {},
   "outputs": [
    {
     "name": "stderr",
     "output_type": "stream",
     "text": [
      "[ 2025-08-11 12:11:32,499 ] root - INFO - Entered predict method of USvisaModel class\n",
      "[ 2025-08-11 12:11:32,508 ] root - INFO - Transforming input features\n",
      "[ 2025-08-11 12:11:32,515 ] root - INFO - Starting feature engineering transformation.\n",
      "[ 2025-08-11 12:11:32,559 ] root - INFO - Feature engineering transformation completed.\n"
     ]
    },
    {
     "name": "stderr",
     "output_type": "stream",
     "text": [
      "[ 2025-08-11 12:11:32,632 ] root - INFO - Performing predictions\n"
     ]
    },
    {
     "name": "stdout",
     "output_type": "stream",
     "text": [
      "✅ Prediction for sample data: [0]\n",
      "✅ Predicted label: 0\n"
     ]
    }
   ],
   "source": [
    "prediction = model.predict(dataa)\n",
    "print(f\"✅ Prediction for sample data: {prediction}\")\n",
    "predicted_label = prediction[0]\n",
    "print(f\"✅ Predicted label: {predicted_label}\")"
   ]
  },
  {
   "cell_type": "code",
   "execution_count": 32,
   "id": "18cf27cd",
   "metadata": {},
   "outputs": [
    {
     "data": {
      "text/plain": [
       "0    YES\n",
       "Name: police_report_available, dtype: object"
      ]
     },
     "execution_count": 32,
     "metadata": {},
     "output_type": "execute_result"
    }
   ],
   "source": [
    "input_df['police_report_available']"
   ]
  },
  {
   "cell_type": "code",
   "execution_count": 19,
   "id": "8c8027e3",
   "metadata": {},
   "outputs": [
    {
     "data": {
      "text/plain": [
       "Index(['months_as_customer', 'age', 'policy_number', 'policy_bind_date',\n",
       "       'policy_state', 'policy_csl', 'policy_deductable',\n",
       "       'policy_annual_premium', 'umbrella_limit', 'insured_zip', 'insured_sex',\n",
       "       'insured_education_level', 'insured_occupation', 'insured_hobbies',\n",
       "       'insured_relationship', 'capital-gains', 'capital-loss',\n",
       "       'incident_date', 'incident_type', 'collision_type', 'incident_severity',\n",
       "       'authorities_contacted', 'incident_state', 'incident_city',\n",
       "       'incident_location', 'incident_hour_of_the_day',\n",
       "       'number_of_vehicles_involved', 'property_damage', 'bodily_injuries',\n",
       "       'witnesses', 'police_report_available', 'total_claim_amount',\n",
       "       'injury_claim', 'property_claim', 'vehicle_claim', 'auto_make',\n",
       "       'auto_model', 'auto_year'],\n",
       "      dtype='object')"
      ]
     },
     "execution_count": 19,
     "metadata": {},
     "output_type": "execute_result"
    }
   ],
   "source": [
    "input_df.columns"
   ]
  },
  {
   "cell_type": "code",
   "execution_count": null,
   "id": "8796fa4b",
   "metadata": {},
   "outputs": [],
   "source": []
  }
 ],
 "metadata": {
  "kernelspec": {
   "display_name": "venv",
   "language": "python",
   "name": "python3"
  },
  "language_info": {
   "codemirror_mode": {
    "name": "ipython",
    "version": 3
   },
   "file_extension": ".py",
   "mimetype": "text/x-python",
   "name": "python",
   "nbconvert_exporter": "python",
   "pygments_lexer": "ipython3",
   "version": "3.12.0"
  }
 },
 "nbformat": 4,
 "nbformat_minor": 5
}
